{
  "nbformat": 4,
  "nbformat_minor": 0,
  "metadata": {
    "colab": {
      "provenance": [],
      "toc_visible": true
    },
    "kernelspec": {
      "name": "python3",
      "display_name": "Python 3"
    },
    "language_info": {
      "name": "python"
    }
  },
  "cells": [
    {
      "cell_type": "code",
      "execution_count": null,
      "metadata": {
        "id": "A4Mffl_xTbdr"
      },
      "outputs": [],
      "source": [
        "!pip install flask-ngrok\n",
        "!pip install flask"
      ]
    },
    {
      "cell_type": "code",
      "source": [
        "import pandas as pd\n",
        "from flask_ngrok import run_with_ngrok\n",
        "from flask import request, jsonify, Flask\n",
        "import random as rk\n"
      ],
      "metadata": {
        "id": "yRb-5snlTsnv"
      },
      "execution_count": null,
      "outputs": []
    },
    {
      "cell_type": "code",
      "source": [
        "app = Flask(__name__)\n",
        "run_with_ngrok(app)"
      ],
      "metadata": {
        "id": "zua9HiL3ULba"
      },
      "execution_count": null,
      "outputs": []
    },
    {
      "cell_type": "code",
      "source": [
        "dados = [{\n",
        "    \"id\": 1,\n",
        "    \"name\": \"Mahesh\",\n",
        "    \"age\": \"25\",\n",
        "    \"city\": \"Bangalore\",\n",
        "    \"country\": \"India\"\n",
        "},\n",
        "{\n",
        "    \"id\": 2,\n",
        "    \"name\": \"Alex\",\n",
        "    \"age\": \"26\",\n",
        "    \"city\": \"London\",\n",
        "    \"country\": \"UK\"\n",
        "},\n",
        "{\n",
        "    \"id\": 3,\n",
        "    \"name\": \"David\",\n",
        "    \"age\": \"27\",\n",
        "    \"city\": \"San Francisco\",\n",
        "    \"country\": \"USA\"\n",
        "},\n",
        "{\n",
        "    \"id\": 4,\n",
        "    \"name\": \"Jhon\",\n",
        "    \"age\": \"28\",\n",
        "    \"city\": \"Toronto\",\n",
        "    \"country\": \"Canada\"\n",
        "},\n",
        "{\n",
        "    \"id\": 5,\n",
        "    \"name\": \"Chris\",\n",
        "    \"age\": \"29\",\n",
        "    \"city\": \"Paris\",\n",
        "    \"country\": \"France\"\n",
        "},\n",
        "\n",
        "]"
      ],
      "metadata": {
        "id": "toEKlSRZUUS-"
      },
      "execution_count": null,
      "outputs": []
    },
    {
      "cell_type": "code",
      "source": [
        "@app.route(\"/index\")\n",
        "def rota_dados():\n",
        "  return jsonify(dados)\n",
        "\n",
        "app.run()"
      ],
      "metadata": {
        "id": "ZqKwDipzUid3"
      },
      "execution_count": null,
      "outputs": []
    }
  ]
}